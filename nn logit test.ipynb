{
 "cells": [
  {
   "cell_type": "markdown",
   "metadata": {},
   "source": [
    "# Neural Network Logit Test\n",
    "\n",
    "\n",
    "Xiuyuan Cheng\n",
    "\n",
    "xiuyuan.cheng@duke.edu\n",
    "\n",
    "-----\n",
    "\n",
    "Classification two-sample test (C2ST) by neural network logit test\n",
    "\n",
    "This file produces\n",
    "\n",
    "- The 1D data example in Fig 5 (also shown as Example 3 in Fig 6) of the paper \"Classification logit two-sample testing by neural networks for differentiating near manifold densities\", TIT 2022 (arxiv:1909.11298). This is 1D data. \n",
    "\n",
    "\n",
    "- Performance of NN logit test on the high dimensional Gaussian mixture data, the example in Fig 3 of \"Learning deep kernels for non-parametric two-sample tests\", ICML 2020 (arXiv:2002.09116). This is high dimensional data."
   ]
  },
  {
   "cell_type": "code",
   "execution_count": 2,
   "metadata": {},
   "outputs": [],
   "source": [
    "import matplotlib.pyplot as plt \n",
    "import numpy as np\n",
    "\n",
    "import torch\n",
    "import torch.utils.data\n",
    "from torch import nn, optim\n",
    "from torch.nn import functional as F"
   ]
  },
  {
   "cell_type": "code",
   "execution_count": 3,
   "metadata": {},
   "outputs": [],
   "source": [
    "device = torch.device(\"cpu\")\n",
    "\n",
    "np.random.seed(2022)"
   ]
  },
  {
   "cell_type": "markdown",
   "metadata": {},
   "source": [
    "## 1. Example of 1D data\n",
    "\n",
    "Mixture with bump at tail,\n",
    "\n",
    "X ∼ N (0, 1),\n",
    "\n",
    "Y ∼ (1−delta) * N (0, 1) + delta * N (3, 1/16 )\n",
    "\n",
    "delta = 0.08, n_all = 400, n_run=400, m_perm = 400, test power is averaged over n_rep = 20 replicas."
   ]
  },
  {
   "cell_type": "code",
   "execution_count": 4,
   "metadata": {},
   "outputs": [],
   "source": [
    "# classification network architecture\n",
    "num_neurons = 32; #paper has 32, using larger width can work with shorter training epochs\n",
    "#num_neurons = 256;\n",
    "dim = 1;\n",
    "    \n",
    "class nn_two_hidden_layer_classif(nn.Module):\n",
    "    def __init__(self):\n",
    "        super( nn_two_hidden_layer_classif, self).__init__()\n",
    "        input_dim = dim\n",
    "        num_classes = 2\n",
    "        \n",
    "        self.fc1 = nn.Linear(input_dim, num_neurons ) \n",
    "        self.fc2 = nn.Linear(num_neurons, num_neurons) \n",
    "        self.fc3 = nn.Linear(num_neurons, num_classes) \n",
    "\n",
    "    def forward(self, x):        \n",
    "        x = F.relu(self.fc1(x)) #relu activation function\n",
    "        x = F.relu(self.fc2(x))\n",
    "        x = self.fc3(x)\n",
    "        return x "
   ]
  },
  {
   "cell_type": "code",
   "execution_count": 5,
   "metadata": {},
   "outputs": [],
   "source": [
    "# train and test for classification network\n",
    "def train_loop(dataloader, model, optimizer):\n",
    "    num_classes= 2 \n",
    "    size = len(dataloader.dataset)\n",
    "    train_loss, correct = 0, 0 \n",
    "    for batch, (train_features, train_labels) in enumerate(dataloader):\n",
    "        # forward pass\n",
    "        outputs = model(train_features).reshape([-1,num_classes]) \n",
    "        pred = F.log_softmax(outputs, dim=1)\n",
    "        this_batch_size = len(train_labels)\n",
    "        loss = F.nll_loss( pred, \n",
    "                  train_labels.reshape([this_batch_size]), reduction='sum')\n",
    "        \n",
    "        # Backpropagation\n",
    "        optimizer.zero_grad()\n",
    "        loss.backward() #compute both the loss and the gradient fields of trainable parameters\n",
    "        optimizer.step() #apply the stochastic optimization scheme\n",
    "        \n",
    "        train_loss += loss.item()    \n",
    "        correct += (pred.argmax(1) == train_labels).type(torch.float).sum().item()\n",
    "    \n",
    "        if batch % 10 == 0:\n",
    "            loss, current = loss.item(), batch * len(train_features)\n",
    "            #print(f\"loss: {loss:>7f}  [{current:>5d}/{size:>5d}]\")\n",
    "    \n",
    "    train_loss /= size\n",
    "    correct /= size  \n",
    "    #print(f\"Train Error: \\n Accuracy: {(100*correct):>0.1f}%, Avg loss: {train_loss:>8f} \\n\")  \n",
    "    return train_loss, correct\n",
    "\n",
    "\n",
    "def test_loop(dataloader, model):\n",
    "    num_classes= 2 \n",
    "    size = len(dataloader.dataset)\n",
    "    #batch_size = dataloader.batch_size\n",
    "    test_loss, correct = 0, 0\n",
    "    with torch.no_grad():\n",
    "        for (test_features, test_labels) in dataloader:\n",
    "            # forward pass\n",
    "            outputs = model(test_features).reshape([-1,num_classes])\n",
    "            pred = F.log_softmax(outputs, dim=1)\n",
    "            \n",
    "            this_batch_size = len(test_labels)\n",
    "            loss = F.nll_loss( pred, \n",
    "                  test_labels.reshape([this_batch_size]), reduction='sum')\n",
    "        \n",
    "            test_loss += loss.item()\n",
    "            correct += (pred.argmax(1) == test_labels).type(torch.float).sum().item()\n",
    "\n",
    "    test_loss /= size\n",
    "    correct /= size\n",
    "    #print(f\"Test Error: \\n Accuracy: {(100*correct):>0.1f}%, Avg loss: {test_loss:>8f} \\n\")  \n",
    "    return test_loss, correct"
   ]
  },
  {
   "cell_type": "code",
   "execution_count": 6,
   "metadata": {},
   "outputs": [],
   "source": [
    "# 1D data, Eg. 3\n",
    "def gen_1DEg3_P(n):\n",
    "    dim = 1\n",
    "    Num_clusters = 1 # number of modes\n",
    "    mu_mx = np.zeros([Num_clusters,dim])\n",
    "    sigma_mx = [np.identity(dim)]\n",
    "\n",
    "    \n",
    "    X = np.zeros([n, dim])\n",
    "    X = np.random.multivariate_normal(mu_mx[0], sigma_mx[0], n)\n",
    "    return np.float32(X)\n",
    "\n",
    "def gen_1DEg3_Q(n, delta):\n",
    "    dim = 1\n",
    "    Num_clusters = 2 # number of modes\n",
    "    mu_mx = np.zeros([Num_clusters,dim])\n",
    "    mu_mx[1] = mu_mx[1] + 3.0\n",
    "    sigma_mx_2 = [np.identity(dim), np.identity(dim)] \n",
    "    sigma_mx_2[1][0] = 1.0/16.0\n",
    "    \n",
    "    n_m1= np.int(n*(1-delta)) #mode1\n",
    "    n_m2= n-n_m1     #mode2\n",
    "    X = np.zeros([n, dim])\n",
    "    X[0:n_m1, :] = np.random.multivariate_normal(mu_mx[0], sigma_mx_2[0], n_m1)\n",
    "    X[n_m1:n, :] = np.random.multivariate_normal(mu_mx[1], sigma_mx_2[1], n_m2)\n",
    "    return np.float32(X)"
   ]
  },
  {
   "cell_type": "code",
   "execution_count": 7,
   "metadata": {},
   "outputs": [
    {
     "data": {
      "image/png": "[encoded data removed]",
      "text/plain": [
       "<Figure size 576x216 with 2 Axes>"
      ]
     },
     "metadata": {
      "needs_background": "light"
     },
     "output_type": "display_data"
    }
   ],
   "source": [
    "# generate data and visualize the histogram\n",
    "nX,nY = 1000,1000\n",
    "delta = 0.08\n",
    "X = gen_1DEg3_P(nX);\n",
    "Y = gen_1DEg3_Q(nY, delta);\n",
    "\n",
    "plt.figure(figsize=(8, 3))\n",
    "plt.subplot(1,2,1)\n",
    "plt.hist( X, bins=40, facecolor='b', alpha=0.25)\n",
    "plt.grid()\n",
    "plt.title('X')\n",
    "plt.subplot(1,2,2)\n",
    "plt.hist( Y, bins=40, facecolor='b', alpha=0.25)\n",
    "plt.grid()\n",
    "plt.title('Y')\n",
    "plt.show()"
   ]
  },
  {
   "cell_type": "code",
   "execution_count": 8,
   "metadata": {},
   "outputs": [],
   "source": [
    "# the bootstrap procedure to estimate test threshold (permutation test)\n",
    "def perm_test(gte, labels_te, numperm):\n",
    "    idx1_te = (labels_te == 0).nonzero(as_tuple=True)[0].numpy()\n",
    "    idx2_te = (labels_te == 1).nonzero(as_tuple=True)[0].numpy()\n",
    "    eta = np.mean(gte[idx1_te])-np.mean(gte[idx2_te])\n",
    "        \n",
    "    # test-only boostrap (permutation test)\n",
    "    etastore = np.float32( np.zeros(numperm) )\n",
    "    for iboot in range(numperm):\n",
    "        tmp=torch.randperm(ntr).numpy()\n",
    "        idx1_perm, idx2_perm = tmp[0:nXte], tmp[nXte:nte] \n",
    "        eta_perm = np.mean(gte[idx1_perm])-np.mean(gte[idx2_perm])\n",
    "        etastore[iboot] = eta_perm\n",
    "        \n",
    "    talpha = np.quantile(etastore, 0.95) #test level alpha=0.05\n",
    "    return eta, etastore, talpha"
   ]
  },
  {
   "cell_type": "code",
   "execution_count": 9,
   "metadata": {},
   "outputs": [
    {
     "name": "stdout",
     "output_type": "stream",
     "text": [
      "delta_list = [0.   0.08]\n",
      "ntr=200, nXtr=100, nYtr=100\n",
      "epochs=100, batch_size=100\n",
      "\n"
     ]
    }
   ],
   "source": [
    "# data parameters\n",
    "delta_list = np.array([0, 0.08])\n",
    "print(f'delta_list = {delta_list}')\n",
    "\n",
    "# training and test set sizes\n",
    "n_all = 400\n",
    "\n",
    "ntr = n_all/2    \n",
    "nXtr = np.int(ntr/2)\n",
    "nYtr = nXtr\n",
    "nXte, nYte = nXtr, nYtr\n",
    "nX, nY = nXtr+nXte, nYtr+nYte\n",
    "ntr, nte = nXtr+nYtr, nXte+nYte\n",
    "print(f'ntr={ntr:d}, nXtr={nXtr:d}, nYtr={nYtr:d}')\n",
    "\n",
    "# testing parameters\n",
    "m_perm = 400 # boostrap parameter\n",
    "n_run = 400 #400 #50 # number of tests to count rejectoin rate\n",
    "n_replica = 20 #20 #10 #overall replicas\n",
    "    #change n_run, n_replica to be smaller to run in shorter time\n",
    "    # n_run=400, n_replica = 20 takes about 5 min to run\n",
    "\n",
    "# c2st training parameter\n",
    "learning_rate_c = 1e-3\n",
    "batch_size = 100\n",
    "#epochs =  np.int(100*600/ntr)\n",
    "epochs =  100 #20 #100\n",
    "print(f'epochs={epochs:d}, batch_size={batch_size:d}\\n')"
   ]
  },
  {
   "cell_type": "code",
   "execution_count": 10,
   "metadata": {
    "scrolled": false
   },
   "outputs": [
    {
     "name": "stdout",
     "output_type": "stream",
     "text": [
      "\n",
      " delta=0.000000, replica=0\n",
      "\n",
      "C2ST-S power=0.0375, C2ST-L power=0.06\n"
     ]
    },
    {
     "data": {
      "image/png": "[encoded data removed]",
      "text/plain": [
       "<Figure size 864x216 with 3 Axes>"
      ]
     },
     "metadata": {
      "needs_background": "light"
     },
     "output_type": "display_data"
    },
    {
     "name": "stdout",
     "output_type": "stream",
     "text": [
      "C2ST-S power=0.0225, C2ST-L power=0.0425\n",
      "C2ST-S power=0.0225, C2ST-L power=0.0525\n",
      "C2ST-S power=0.055, C2ST-L power=0.0575\n",
      "C2ST-S power=0.0425, C2ST-L power=0.0625\n",
      "C2ST-S power=0.04, C2ST-L power=0.05\n",
      "C2ST-S power=0.0575, C2ST-L power=0.0725\n",
      "C2ST-S power=0.045, C2ST-L power=0.0475\n",
      "C2ST-S power=0.0275, C2ST-L power=0.0475\n",
      "C2ST-S power=0.03, C2ST-L power=0.065\n",
      "\n",
      " delta=0.000000, replica=10\n",
      "\n",
      "C2ST-S power=0.02, C2ST-L power=0.04\n",
      "C2ST-S power=0.0425, C2ST-L power=0.05\n",
      "C2ST-S power=0.0375, C2ST-L power=0.05\n",
      "C2ST-S power=0.025, C2ST-L power=0.04\n",
      "C2ST-S power=0.0, C2ST-L power=0.05\n",
      "C2ST-S power=0.0475, C2ST-L power=0.0375\n",
      "C2ST-S power=0.0475, C2ST-L power=0.0525\n",
      "C2ST-S power=0.035, C2ST-L power=0.06\n",
      "C2ST-S power=0.025, C2ST-L power=0.045\n",
      "C2ST-S power=0.005, C2ST-L power=0.04\n",
      "\n",
      " delta=0.080000, replica=0\n",
      "\n",
      "C2ST-S power=0.2175, C2ST-L power=0.865\n"
     ]
    },
    {
     "data": {
      "image/png": "[encoded data removed]",
      "text/plain": [
       "<Figure size 864x216 with 3 Axes>"
      ]
     },
     "metadata": {
      "needs_background": "light"
     },
     "output_type": "display_data"
    },
    {
     "name": "stdout",
     "output_type": "stream",
     "text": [
      "C2ST-S power=0.485, C2ST-L power=0.9025\n",
      "C2ST-S power=0.33, C2ST-L power=0.76\n",
      "C2ST-S power=0.0, C2ST-L power=0.8925\n",
      "C2ST-S power=0.275, C2ST-L power=0.57\n",
      "C2ST-S power=0.8, C2ST-L power=0.6575\n",
      "C2ST-S power=0.0, C2ST-L power=0.765\n",
      "C2ST-S power=0.325, C2ST-L power=0.5925\n",
      "C2ST-S power=0.1225, C2ST-L power=0.5275\n",
      "C2ST-S power=0.0775, C2ST-L power=0.855\n",
      "\n",
      " delta=0.080000, replica=10\n",
      "\n",
      "C2ST-S power=0.06, C2ST-L power=0.8725\n",
      "C2ST-S power=0.37, C2ST-L power=0.8025\n",
      "C2ST-S power=0.32, C2ST-L power=0.745\n",
      "C2ST-S power=0.1425, C2ST-L power=0.5575\n",
      "C2ST-S power=0.4825, C2ST-L power=0.665\n",
      "C2ST-S power=0.18, C2ST-L power=0.6775\n",
      "C2ST-S power=0.19, C2ST-L power=0.56\n",
      "C2ST-S power=0.1225, C2ST-L power=0.7375\n",
      "C2ST-S power=0.195, C2ST-L power=0.6725\n",
      "C2ST-S power=0.17, C2ST-L power=0.6075\n",
      "Running time: 301.9877369403839 seconds\n"
     ]
    }
   ],
   "source": [
    "import time\n",
    "\n",
    "c2st_s_vote_adam = np.zeros([ delta_list.shape[0], n_replica, n_run ])\n",
    "c2st_l_vote_adam = np.zeros([ delta_list.shape[0], n_replica, n_run ])\n",
    "\n",
    "start = time.time() #time the code\n",
    "\n",
    "for irow in range(delta_list.shape[0]):\n",
    "    delta = delta_list[irow]\n",
    "    \n",
    "    for irep in range(n_replica):\n",
    "        if np.mod(irep,10) == 0:\n",
    "            print(f'\\n delta={delta:3f}, replica={irep:d}\\n')\n",
    "    \n",
    "        ## generate data, training-testing splitting\n",
    "        X = gen_1DEg3_P(nX);\n",
    "        Y = gen_1DEg3_Q(nY, delta);\n",
    "        idxX=torch.randperm(nX).numpy()\n",
    "        idxY=torch.randperm(nY).numpy()\n",
    "        data_tr = torch.tensor( np.concatenate( (X[idxX[0:nXtr],:],  Y[idxY[0:nYtr],:]), axis=0) )\n",
    "        labels_tr = torch.tensor(np.concatenate( (np.zeros(nXtr),  np.ones(nYtr)), axis=0), dtype=int)        \n",
    "        #data_te =  torch.tensor(np.concatenate( (X[idxX[nXtr:nX],:],  Y[idxY[nYtr:nY],:]), axis=0))\n",
    "        #labels_te = torch.tensor(np.concatenate( (np.zeros(nXte),  np.ones(nYte)), axis=0), dtype=int)\n",
    "\n",
    "        ### C2ST-S test: training ###\n",
    "        model_c = nn_two_hidden_layer_classif().to(device) #init model\n",
    "        training_data = torch.utils.data.TensorDataset(data_tr, labels_tr )\n",
    "        train_dataloader = torch.utils.data.DataLoader(training_data, \n",
    "                                        batch_size= batch_size, shuffle=True)\n",
    "        \n",
    "        #init model\n",
    "        model_c = nn_two_hidden_layer_classif().to(device) \n",
    "        # optimizer\n",
    "        optimizer_c = optim.Adam(model_c.parameters(), \n",
    "                                   lr= learning_rate_c)\n",
    "        model_c.train()\n",
    "\n",
    "        # loop of training\n",
    "        train_loss_all, train_acc_all  = np.zeros(epochs), np.zeros(epochs)\n",
    "        for t in range(epochs):\n",
    "            #print(f\"Epoch {t+1}\\n-------------------------------\")\n",
    "            train_loss_all[t], train_acc_all[t]=train_loop(train_dataloader, model_c, optimizer_c)\n",
    "    \n",
    "        # loop for ntest many tests\n",
    "        for irun in range(n_run):\n",
    "            ## generate data, training-testing splitting\n",
    "            X = gen_1DEg3_P(nX);\n",
    "            Y = gen_1DEg3_Q(nY, delta);\n",
    "            idxX=torch.randperm(nX).numpy()\n",
    "            idxY=torch.randperm(nY).numpy()\n",
    "            data_te =  torch.tensor(np.concatenate( (X[idxX[nXtr:nX],:],  Y[idxY[nYtr:nY],:]), axis=0))\n",
    "            labels_te = torch.tensor(np.concatenate( (np.zeros(nXte),  np.ones(nYte)), axis=0), dtype=int)\n",
    "            # test statistic\n",
    "            with torch.no_grad():\n",
    "                num_classes = 2\n",
    "                # forward pass\n",
    "                outputs_te = model_c(data_te).reshape([-1,num_classes])\n",
    "                pred_te = F.log_softmax(outputs_te, dim=1)\n",
    "                correct = (pred_te.argmax(1) == labels_te).type(torch.float).sum().item()\n",
    "                test_acc =correct/nte \n",
    "            \n",
    "            logit_te = outputs_te.detach().numpy()\n",
    "        \n",
    "            ### C2ST-S test\n",
    "            gte = np.float32(np.sign(logit_te[:,0])>0)\n",
    "            eta, etastore, talpha = perm_test(gte, labels_te, m_perm );\n",
    "            # record the voet by rejection rule\n",
    "            c2st_s_vote_adam[irow,irep,irun] =  np.float32( eta > talpha );\n",
    "        \n",
    "            if irep == 1 and irun ==1:\n",
    "                # plot the histogram\n",
    "                plt.figure(figsize=(12, 3))\n",
    "                plt.subplot(1,3,1)\n",
    "                plt.plot(train_loss_all,'x-');\n",
    "                plt.xlabel('epoch'); plt.grid(); plt.title('training loss');\n",
    "                plt.subplot(1,3,2)\n",
    "                plt.hist( etastore, bins=40, facecolor='b', alpha=0.25)\n",
    "                plt.plot( eta, 0, marker='x', markerfacecolor='red', markersize=12)\n",
    "                plt.plot( talpha, 0, marker='o', markerfacecolor='green',fillstyle='none', markersize=12)\n",
    "                plt.grid();plt.title('C2ST-S');\n",
    "              \n",
    "            ### C2ST-L test ###\n",
    "            gte = logit_te[:,0]-logit_te[:,1];\n",
    "            eta, etastore, talpha = perm_test(gte, labels_te, m_perm );\n",
    "            c2st_l_vote_adam[irow,irep,irun] =  np.float32( eta > talpha );   \n",
    "\n",
    "            if irep == 1 and irun ==1:\n",
    "                # plot the histogram\n",
    "                plt.subplot(1,3,3)\n",
    "                plt.hist( etastore, bins=40, facecolor='b', alpha=0.25)\n",
    "                plt.plot( eta, 0, marker='x', markerfacecolor='red', markersize=12)\n",
    "                plt.plot( talpha, 0, marker='o', markerfacecolor='green',fillstyle='none', markersize=12)\n",
    "                plt.grid();plt.title('C2ST-L');plt.show()\n",
    "\n",
    "        #print test power estimated from this replica\n",
    "        power_s = np.mean(c2st_s_vote_adam[irow,irep,:])\n",
    "        power_l = np.mean(c2st_l_vote_adam[irow,irep,:])\n",
    "        print(f'C2ST-S power={power_s}, C2ST-L power={power_l}')\n",
    "        \n",
    "            \n",
    "end = time.time()        \n",
    "print(\"Running time:\", end - start, \"seconds\") "
   ]
  },
  {
   "cell_type": "code",
   "execution_count": null,
   "metadata": {},
   "outputs": [],
   "source": []
  },
  {
   "cell_type": "code",
   "execution_count": 11,
   "metadata": {},
   "outputs": [
    {
     "name": "stdout",
     "output_type": "stream",
     "text": [
      "[0.03325 0.24325]\n",
      "[0.01475    0.18664488]\n",
      "[0.051125 0.71425 ]\n",
      "[0.00916771 0.11994556]\n"
     ]
    }
   ],
   "source": [
    "c2st_s_power_adam_test = np.mean( c2st_s_vote_adam, axis=2)\n",
    "c2st_s_power_adam_mean = np.mean(c2st_s_power_adam_test, axis=1)\n",
    "c2st_s_power_adam_std = np.std(c2st_s_power_adam_test, axis=1)\n",
    "c2st_l_power_adam_test = np.mean( c2st_l_vote_adam, axis=2)\n",
    "c2st_l_power_adam_mean = np.mean(c2st_l_power_adam_test, axis=1)\n",
    "c2st_l_power_adam_std = np.std(c2st_l_power_adam_test, axis=1)\n",
    "\n",
    "print(c2st_s_power_adam_mean)\n",
    "print(c2st_s_power_adam_std)\n",
    "print(c2st_l_power_adam_mean)\n",
    "print(c2st_l_power_adam_std)"
   ]
  },
  {
   "cell_type": "code",
   "execution_count": 12,
   "metadata": {},
   "outputs": [
    {
     "data": {
      "image/png": "[encoded data removed]",
      "text/plain": [
       "<Figure size 288x288 with 1 Axes>"
      ]
     },
     "metadata": {
      "needs_background": "light"
     },
     "output_type": "display_data"
    }
   ],
   "source": [
    "fig = plt.figure(figsize= (4,4))\n",
    "plt.errorbar(delta_list, c2st_s_power_adam_mean, yerr=c2st_s_power_adam_std, fmt='-o',label='c2st-s')\n",
    "plt.errorbar(delta_list, c2st_l_power_adam_mean, yerr=c2st_l_power_adam_std, fmt='-s',label='c2st-l')\n",
    "plt.grid(); plt.legend(loc='upper left')\n",
    "plt.ylabel('power');plt.xlabel('delta');\n",
    "plt.title('epoch=%d, dim=%d' % (epochs, dim));plt.show()"
   ]
  },
  {
   "cell_type": "code",
   "execution_count": null,
   "metadata": {},
   "outputs": [],
   "source": []
  },
  {
   "cell_type": "code",
   "execution_count": null,
   "metadata": {},
   "outputs": [],
   "source": []
  },
  {
   "cell_type": "code",
   "execution_count": null,
   "metadata": {},
   "outputs": [],
   "source": []
  },
  {
   "cell_type": "markdown",
   "metadata": {},
   "source": [
    "## 2. Example of high dimensional Gaussian mixture\n",
    "\n",
    "\n",
    "HDGM, ntr increases from 500 to 2000,\n",
    "\n",
    "P = 1/2 (N( mu_1, Id) + N(mu_2, I_d)), mu_1 =0, mu_2 = 0.5*1_d\n",
    "\n",
    "Q = 1/2 (N( mu_1, {[1,0.5; 0.5,1]; I_{d_2}}  + N( mu_2, {[1,-0.5; -0.5,1]; I_{d_2}} )\n",
    "\n",
    "\n",
    "n_run=400, m_perm = 400, test power is averaged over n_rep = 20 replicas."
   ]
  },
  {
   "cell_type": "code",
   "execution_count": 13,
   "metadata": {},
   "outputs": [],
   "source": [
    "## HDGM data\n",
    "rho = 0.5\n",
    "\n",
    "def gen_HDGM_P(dim,n):\n",
    "    Num_clusters = 2 # number of modes\n",
    "    mu_mx = np.zeros([Num_clusters,dim])\n",
    "    mu_mx[1] = mu_mx[1] + 0.5\n",
    "    sigma_mx_1 = np.identity(dim)\n",
    "    n_m1= np.int(n/2) #mode1\n",
    "    n_m2= n-n_m1  #mode2\n",
    "    X = np.zeros([n, dim])\n",
    "    X[0:n_m1, :] = np.random.multivariate_normal(mu_mx[0], sigma_mx_1, n_m1)\n",
    "    X[n_m1:n, :] = np.random.multivariate_normal(mu_mx[1], sigma_mx_1, n_m2)\n",
    "    return np.float32(X)\n",
    "\n",
    "def gen_HDGM_Q(dim,n, rho):\n",
    "    Num_clusters = 2 # number of modes\n",
    "    mu_mx = np.zeros([Num_clusters,dim])\n",
    "    mu_mx[1] = mu_mx[1] + 0.5\n",
    "    sigma_mx_2 = [np.identity(dim),np.identity(dim)]\n",
    "    sigma_mx_2[0][0,1] = rho \n",
    "    sigma_mx_2[0][1,0] = rho\n",
    "    sigma_mx_2[1][0,1] = -rho\n",
    "    sigma_mx_2[1][1,0] = -rho\n",
    "    n_m1= np.int(n/2) #mode1\n",
    "    n_m2= n-n_m1     #mode2\n",
    "    X = np.zeros([n, dim])\n",
    "    X[0:n_m1, :] = np.random.multivariate_normal(mu_mx[0], sigma_mx_2[0], n_m1)\n",
    "    X[n_m1:n, :] = np.random.multivariate_normal(mu_mx[1], sigma_mx_2[1], n_m2)\n",
    "    return np.float32(X)"
   ]
  },
  {
   "cell_type": "code",
   "execution_count": 14,
   "metadata": {},
   "outputs": [],
   "source": [
    "# classification network architecture\n",
    "dim = 10\n",
    "num_neurons = 128;\n",
    "    \n",
    "class nn_two_hidden_layer_classif(nn.Module):\n",
    "    def __init__(self):\n",
    "        super( nn_two_hidden_layer_classif, self).__init__()\n",
    "        input_dim = dim\n",
    "        num_classes = 2\n",
    "        \n",
    "        self.fc1 = nn.Linear(input_dim, num_neurons ) \n",
    "        self.fc2 = nn.Linear(num_neurons, num_neurons) \n",
    "        self.fc3 = nn.Linear(num_neurons, num_classes) \n",
    "\n",
    "    def forward(self, x):        \n",
    "        x = F.relu(self.fc1(x)) #relu activation function\n",
    "        x = F.relu(self.fc2(x))\n",
    "        x = self.fc3(x)\n",
    "        return x "
   ]
  },
  {
   "cell_type": "code",
   "execution_count": null,
   "metadata": {},
   "outputs": [],
   "source": []
  },
  {
   "cell_type": "code",
   "execution_count": 15,
   "metadata": {},
   "outputs": [
    {
     "name": "stdout",
     "output_type": "stream",
     "text": [
      "epochs=20, batch_size=32\n",
      "\n"
     ]
    }
   ],
   "source": [
    "# data parameters\n",
    "ntr_list = np.array([500, 1000, 1500, 2000]) \n",
    "\n",
    "# testing parameters\n",
    "m_perm = 400 # boostrap parameter\n",
    "n_run = 100 #400 #50 # number of tests to count rejectoin rate\n",
    "n_replica = 10 #20 #10 #overall replicas\n",
    "    #change n_run, n_replica to be smaller to run in shorter time, \n",
    "    #n_run=400, n_replica=20 takes about 15 min to run\n",
    "\n",
    "# c2st training parameter\n",
    "learning_rate_c = 1e-3\n",
    "batch_size = 32\n",
    "epochs =  20 #10 \n",
    "print(f'epochs={epochs:d}, batch_size={batch_size:d}\\n')\n"
   ]
  },
  {
   "cell_type": "code",
   "execution_count": null,
   "metadata": {},
   "outputs": [],
   "source": []
  },
  {
   "cell_type": "code",
   "execution_count": 16,
   "metadata": {
    "scrolled": false
   },
   "outputs": [
    {
     "name": "stdout",
     "output_type": "stream",
     "text": [
      "\n",
      " ntr=500, nXtr=250, nYtr=250\n",
      "\n",
      "replica=0\n",
      "C2ST-S power=0.06, C2ST-L power=0.11\n"
     ]
    },
    {
     "data": {
      "image/png": "[encoded data removed]",
      "text/plain": [
       "<Figure size 864x216 with 3 Axes>"
      ]
     },
     "metadata": {
      "needs_background": "light"
     },
     "output_type": "display_data"
    },
    {
     "name": "stdout",
     "output_type": "stream",
     "text": [
      "C2ST-S power=0.07, C2ST-L power=0.1\n",
      "C2ST-S power=0.09, C2ST-L power=0.08\n",
      "C2ST-S power=0.03, C2ST-L power=0.09\n",
      "C2ST-S power=0.06, C2ST-L power=0.08\n",
      "C2ST-S power=0.08, C2ST-L power=0.13\n",
      "C2ST-S power=0.05, C2ST-L power=0.1\n",
      "C2ST-S power=0.0, C2ST-L power=0.04\n",
      "C2ST-S power=0.07, C2ST-L power=0.08\n",
      "C2ST-S power=0.09, C2ST-L power=0.07\n",
      "\n",
      " ntr=1000, nXtr=500, nYtr=500\n",
      "\n",
      "replica=0\n",
      "C2ST-S power=0.31, C2ST-L power=0.51\n"
     ]
    },
    {
     "data": {
      "image/png": "[encoded data removed]",
      "text/plain": [
       "<Figure size 864x216 with 3 Axes>"
      ]
     },
     "metadata": {
      "needs_background": "light"
     },
     "output_type": "display_data"
    },
    {
     "name": "stdout",
     "output_type": "stream",
     "text": [
      "C2ST-S power=0.22, C2ST-L power=0.24\n",
      "C2ST-S power=0.17, C2ST-L power=0.27\n",
      "C2ST-S power=0.34, C2ST-L power=0.58\n",
      "C2ST-S power=0.21, C2ST-L power=0.23\n",
      "C2ST-S power=0.17, C2ST-L power=0.28\n",
      "C2ST-S power=0.21, C2ST-L power=0.24\n",
      "C2ST-S power=0.19, C2ST-L power=0.31\n",
      "C2ST-S power=0.37, C2ST-L power=0.33\n",
      "C2ST-S power=0.27, C2ST-L power=0.51\n",
      "\n",
      " ntr=1500, nXtr=750, nYtr=750\n",
      "\n",
      "replica=0\n",
      "C2ST-S power=0.35, C2ST-L power=0.57\n"
     ]
    },
    {
     "data": {
      "image/png": "[encoded data removed]",
      "text/plain": [
       "<Figure size 864x216 with 3 Axes>"
      ]
     },
     "metadata": {
      "needs_background": "light"
     },
     "output_type": "display_data"
    },
    {
     "name": "stdout",
     "output_type": "stream",
     "text": [
      "C2ST-S power=0.38, C2ST-L power=0.75\n",
      "C2ST-S power=0.46, C2ST-L power=0.81\n",
      "C2ST-S power=0.39, C2ST-L power=0.59\n",
      "C2ST-S power=0.4, C2ST-L power=0.74\n",
      "C2ST-S power=0.46, C2ST-L power=0.77\n",
      "C2ST-S power=0.3, C2ST-L power=0.58\n",
      "C2ST-S power=0.6, C2ST-L power=0.82\n",
      "C2ST-S power=0.26, C2ST-L power=0.43\n",
      "C2ST-S power=0.39, C2ST-L power=0.6\n",
      "\n",
      " ntr=2000, nXtr=1000, nYtr=1000\n",
      "\n",
      "replica=0\n",
      "C2ST-S power=0.56, C2ST-L power=0.82\n"
     ]
    },
    {
     "data": {
      "image/png": "[encoded data removed]",
      "text/plain": [
       "<Figure size 864x216 with 3 Axes>"
      ]
     },
     "metadata": {
      "needs_background": "light"
     },
     "output_type": "display_data"
    },
    {
     "name": "stdout",
     "output_type": "stream",
     "text": [
      "C2ST-S power=0.51, C2ST-L power=0.77\n",
      "C2ST-S power=0.73, C2ST-L power=0.89\n",
      "C2ST-S power=0.64, C2ST-L power=0.86\n",
      "C2ST-S power=0.43, C2ST-L power=0.68\n",
      "C2ST-S power=0.54, C2ST-L power=0.89\n",
      "C2ST-S power=0.55, C2ST-L power=0.82\n",
      "C2ST-S power=0.3, C2ST-L power=0.66\n",
      "C2ST-S power=0.51, C2ST-L power=0.67\n",
      "C2ST-S power=0.66, C2ST-L power=0.86\n",
      "Running time: 136.37599301338196 seconds\n"
     ]
    }
   ],
   "source": [
    "# compare test power under H1\n",
    "start = time.time() #time the code\n",
    "\n",
    "c2st_s_vote_adam = np.zeros([ ntr_list.shape[0], n_replica, n_run ])\n",
    "c2st_l_vote_adam = np.zeros([ ntr_list.shape[0], n_replica, n_run ])\n",
    "\n",
    "for irow in range(ntr_list.shape[0]):\n",
    "    ntr = ntr_list[irow]\n",
    "    # training and test set sizes\n",
    "    nXtr = np.int(ntr/2)\n",
    "    nYtr = nXtr\n",
    "    nXte, nYte = nXtr, nYtr\n",
    "    nX, nY = nXtr+nXte, nYtr+nYte\n",
    "    ntr, nte = nXtr+nYtr, nXte+nYte\n",
    "    print(f'\\n ntr={ntr:d}, nXtr={nXtr:d}, nYtr={nYtr:d}\\n')\n",
    "    \n",
    "    for irep in range(n_replica):\n",
    "        if np.mod(irep,10) == 0:\n",
    "            print(f'replica={irep:d}')\n",
    "    \n",
    "        ## generate data, training-testing splitting\n",
    "        X = gen_HDGM_P(dim, nX)\n",
    "        Y = gen_HDGM_Q(dim, nY, rho)\n",
    "        \n",
    "        idxX=torch.randperm(nX).numpy()\n",
    "        idxY=torch.randperm(nY).numpy()\n",
    "        data_tr = torch.tensor( np.concatenate( (X[idxX[0:nXtr],:],  Y[idxY[0:nYtr],:]), axis=0) )\n",
    "        labels_tr = torch.tensor(np.concatenate( (np.zeros(nXtr),  np.ones(nYtr)), axis=0), dtype=int)        \n",
    "        #data_te =  torch.tensor(np.concatenate( (X[idxX[nXtr:nX],:],  Y[idxY[nYtr:nY],:]), axis=0))\n",
    "        #labels_te = torch.tensor(np.concatenate( (np.zeros(nXte),  np.ones(nYte)), axis=0), dtype=int)\n",
    "\n",
    "        ### C2ST-S test: training ###\n",
    "        model_c = nn_two_hidden_layer_classif().to(device) #init model\n",
    "        training_data = torch.utils.data.TensorDataset(data_tr, labels_tr )\n",
    "        train_dataloader = torch.utils.data.DataLoader(training_data, \n",
    "                                        batch_size= batch_size, shuffle=True)\n",
    "        \n",
    "        #init model\n",
    "        model_c = nn_two_hidden_layer_classif().to(device) \n",
    "        # optimizer\n",
    "        optimizer_c = optim.Adam(model_c.parameters(), \n",
    "                                   lr= learning_rate_c)\n",
    "        model_c.train()\n",
    "\n",
    "        # loop of training\n",
    "        train_loss_all, train_acc_all  = np.zeros(epochs), np.zeros(epochs)\n",
    "        for t in range(epochs):\n",
    "            #print(f\"Epoch {t+1}\\n-------------------------------\")\n",
    "            train_loss_all[t], train_acc_all[t]=train_loop(train_dataloader, model_c, optimizer_c)\n",
    "    \n",
    "        # loop for ntest many tests\n",
    "        for irun in range(n_run):\n",
    "            ## generate data, training-testing splitting\n",
    "            X = gen_HDGM_P(dim, nX)\n",
    "            Y = gen_HDGM_Q(dim, nY, rho)\n",
    "            idxX=torch.randperm(nX).numpy()\n",
    "            idxY=torch.randperm(nY).numpy()\n",
    "            data_te =  torch.tensor(np.concatenate( (X[idxX[nXtr:nX],:],  Y[idxY[nYtr:nY],:]), axis=0))\n",
    "            labels_te = torch.tensor(np.concatenate( (np.zeros(nXte),  np.ones(nYte)), axis=0), dtype=int)\n",
    "            # test statistic\n",
    "            with torch.no_grad():\n",
    "                num_classes = 2\n",
    "                # forward pass\n",
    "                outputs_te = model_c(data_te).reshape([-1,num_classes])\n",
    "                pred_te = F.log_softmax(outputs_te, dim=1)\n",
    "                correct = (pred_te.argmax(1) == labels_te).type(torch.float).sum().item()\n",
    "                test_acc =correct/nte \n",
    "            \n",
    "            logit_te = outputs_te.detach().numpy()\n",
    "        \n",
    "            ### C2ST-S test\n",
    "            gte = np.float32(np.sign(logit_te[:,0])>0)\n",
    "            eta, etastore, talpha = perm_test(gte, labels_te, m_perm );\n",
    "            # record the voet by rejection rule\n",
    "            c2st_s_vote_adam[irow,irep,irun] =  np.float32( eta > talpha );\n",
    "        \n",
    "            if irep == 1 and irun ==1:\n",
    "                # plot the histogram\n",
    "                plt.figure(figsize=(12, 3))\n",
    "                plt.subplot(1,3,1)\n",
    "                plt.plot(train_loss_all,'x-');\n",
    "                plt.xlabel('epoch'); plt.grid(); plt.title('training loss');\n",
    "                plt.subplot(1,3,2)\n",
    "                plt.hist( etastore, bins=40, facecolor='b', alpha=0.25)\n",
    "                plt.plot( eta, 0, marker='x', markerfacecolor='red', markersize=12)\n",
    "                plt.plot( talpha, 0, marker='o', markerfacecolor='green',fillstyle='none', markersize=12)\n",
    "                plt.grid();plt.title('C2ST-S');\n",
    "              \n",
    "            ### C2ST-L test ###\n",
    "            gte = logit_te[:,0]-logit_te[:,1];\n",
    "            eta, etastore, talpha = perm_test(gte, labels_te, m_perm );\n",
    "            c2st_l_vote_adam[irow,irep,irun] =  np.float32( eta > talpha );   \n",
    "\n",
    "            if irep == 1 and irun ==1:\n",
    "                # plot the histogram\n",
    "                plt.subplot(1,3,3)\n",
    "                plt.hist( etastore, bins=40, facecolor='b', alpha=0.25)\n",
    "                plt.plot( eta, 0, marker='x', markerfacecolor='red', markersize=12)\n",
    "                plt.plot( talpha, 0, marker='o', markerfacecolor='green',fillstyle='none', markersize=12)\n",
    "                plt.grid();plt.title('C2ST-L');plt.show()\n",
    "\n",
    "        #print test power estimated from this replica\n",
    "        power_s = np.mean(c2st_s_vote_adam[irow,irep,:])\n",
    "        power_l = np.mean(c2st_l_vote_adam[irow,irep,:])\n",
    "        print(f'C2ST-S power={power_s}, C2ST-L power={power_l}')\n",
    "        \n",
    "            \n",
    "end = time.time()        \n",
    "print(\"Running time:\", end - start, \"seconds\")     \n",
    "    \n",
    "    "
   ]
  },
  {
   "cell_type": "code",
   "execution_count": null,
   "metadata": {},
   "outputs": [],
   "source": []
  },
  {
   "cell_type": "code",
   "execution_count": null,
   "metadata": {},
   "outputs": [],
   "source": []
  },
  {
   "cell_type": "code",
   "execution_count": 17,
   "metadata": {},
   "outputs": [
    {
     "name": "stdout",
     "output_type": "stream",
     "text": [
      "[0.06  0.246 0.399 0.543]\n",
      "[0.02645751 0.06843975 0.08938121 0.11506954]\n",
      "[0.088 0.35  0.666 0.792]\n",
      "[0.02315167 0.12489996 0.12257243 0.08681014]\n"
     ]
    }
   ],
   "source": [
    "c2st_s_power_adam_test = np.mean( c2st_s_vote_adam, axis=2)\n",
    "c2st_s_power_adam_mean = np.mean(c2st_s_power_adam_test, axis=1)\n",
    "c2st_s_power_adam_std = np.std(c2st_s_power_adam_test, axis=1)\n",
    "c2st_l_power_adam_test = np.mean( c2st_l_vote_adam, axis=2)\n",
    "c2st_l_power_adam_mean = np.mean(c2st_l_power_adam_test, axis=1)\n",
    "c2st_l_power_adam_std = np.std(c2st_l_power_adam_test, axis=1)\n",
    "\n",
    "print(c2st_s_power_adam_mean)\n",
    "print(c2st_s_power_adam_std)\n",
    "print(c2st_l_power_adam_mean)\n",
    "print(c2st_l_power_adam_std)"
   ]
  },
  {
   "cell_type": "code",
   "execution_count": 18,
   "metadata": {},
   "outputs": [
    {
     "data": {
      "image/png": "[encoded data removed]",
      "text/plain": [
       "<Figure size 288x288 with 1 Axes>"
      ]
     },
     "metadata": {
      "needs_background": "light"
     },
     "output_type": "display_data"
    }
   ],
   "source": [
    "fig = plt.figure(figsize= (4,4))\n",
    "plt.errorbar(ntr_list, c2st_s_power_adam_mean, yerr=c2st_s_power_adam_std, fmt='-o',label='c2st-s')\n",
    "plt.errorbar(ntr_list, c2st_l_power_adam_mean, yerr=c2st_l_power_adam_std, fmt='-s',label='c2st-l')\n",
    "plt.grid(); plt.legend(loc='upper left')\n",
    "plt.ylabel('power');plt.xlabel('ntr');\n",
    "plt.title('epoch=%d, dim=%d' % (epochs, dim));plt.show()"
   ]
  },
  {
   "cell_type": "code",
   "execution_count": 19,
   "metadata": {},
   "outputs": [
    {
     "data": {
      "text/plain": [
       "(10, 100)"
      ]
     },
     "execution_count": 19,
     "metadata": {},
     "output_type": "execute_result"
    }
   ],
   "source": [
    "n_replica, n_run"
   ]
  },
  {
   "cell_type": "code",
   "execution_count": 10,
   "metadata": {},
   "outputs": [],
   "source": []
  }
 ],
 "metadata": {
  "kernelspec": {
   "display_name": "Python 3",
   "language": "python",
   "name": "python3"
  },
  "language_info": {
   "codemirror_mode": {
    "name": "ipython",
    "version": 3
   },
   "file_extension": ".py",
   "mimetype": "text/x-python",
   "name": "python",
   "nbconvert_exporter": "python",
   "pygments_lexer": "ipython3",
   "version": "3.8.5"
  }
 },
 "nbformat": 4,
 "nbformat_minor": 4
}
